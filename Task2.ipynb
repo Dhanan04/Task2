{
 "cells": [
  {
   "cell_type": "code",
   "execution_count": 4,
   "id": "46c6ede4",
   "metadata": {},
   "outputs": [
    {
     "name": "stdout",
     "output_type": "stream",
     "text": [
      "Enter the password: HArd@#&044\n",
      "Valid Password\n"
     ]
    }
   ],
   "source": [
    "#Ans1)\n",
    "\n",
    "def check_password(password):\n",
    "    # Check length of the password\n",
    "    if len(password) != 10:\n",
    "        return \"Invalid Password\"\n",
    "    \n",
    "    # Count uppercase, lowercase, digits, and special characters\n",
    "    upper_count = sum(1 for char in password if char.isupper())\n",
    "    lower_count = sum(1 for char in password if char.islower())\n",
    "    digit_count = sum(1 for char in password if char.isdigit())\n",
    "    special_count = sum(1 for char in password if not char.isalnum())\n",
    "    \n",
    "    # Check if all criteria are met\n",
    "    if upper_count >= 2 and lower_count >= 2 and digit_count >= 1 and special_count >= 3:\n",
    "        return \"Valid Password\"\n",
    "    else:\n",
    "        return \"Invalid Password\"\n",
    "\n",
    "# Test the function\n",
    "password = input(\"Enter the password: \")\n",
    "print(check_password(password))\n"
   ]
  },
  {
   "cell_type": "code",
   "execution_count": null,
   "id": "706f20db",
   "metadata": {},
   "outputs": [],
   "source": []
  },
  {
   "cell_type": "code",
   "execution_count": 5,
   "id": "e7edf2c7",
   "metadata": {},
   "outputs": [
    {
     "name": "stdout",
     "output_type": "stream",
     "text": [
      "['apple']\n"
     ]
    }
   ],
   "source": [
    "#Ans2.) \n",
    "\n",
    "# Check if the string starts with a particular letter\n",
    "\n",
    "string_list = [\"apple\", \"banana\", \"cherry\", \"orange\", \"grapes\"]\n",
    "starts_with_a = list(filter(lambda x: x.startswith('a'), string_list))\n",
    "print(starts_with_a)\n"
   ]
  },
  {
   "cell_type": "code",
   "execution_count": 6,
   "id": "3f8ae59f",
   "metadata": {},
   "outputs": [
    {
     "name": "stdout",
     "output_type": "stream",
     "text": [
      "['123', '456']\n"
     ]
    }
   ],
   "source": [
    "# Check if the string starts with a Number\n",
    "\n",
    "string_list = [\"apple\", \"123\", \"orange\", \"456\", \"grapes\"]\n",
    "numeric_strings = list(filter(lambda x: x.isnumeric(), string_list))\n",
    "print(numeric_strings)\n"
   ]
  },
  {
   "cell_type": "code",
   "execution_count": 7,
   "id": "8e067a34",
   "metadata": {},
   "outputs": [
    {
     "name": "stdout",
     "output_type": "stream",
     "text": [
      "[('orange', 80), ('mango', 99), ('grapes', 1000)]\n"
     ]
    }
   ],
   "source": [
    "# Sort a list of tuples having fruit names and their quantity:\n",
    "\n",
    "fruit_list = [(\"mango\", 99), (\"orange\", 80), (\"grapes\", 1000)]\n",
    "sorted_fruit_list = sorted(fruit_list, key=lambda x: x[1])\n",
    "print(sorted_fruit_list)"
   ]
  },
  {
   "cell_type": "code",
   "execution_count": 8,
   "id": "239ab967",
   "metadata": {},
   "outputs": [
    {
     "name": "stdout",
     "output_type": "stream",
     "text": [
      "[1, 4, 9, 16, 25, 36, 49, 64, 81, 100]\n"
     ]
    }
   ],
   "source": [
    "#Square root of number 1 to 10\n",
    "squares = [x**2 for x in range(1, 11)]\n",
    "print(squares)"
   ]
  },
  {
   "cell_type": "code",
   "execution_count": 9,
   "id": "814fed92",
   "metadata": {},
   "outputs": [
    {
     "name": "stdout",
     "output_type": "stream",
     "text": [
      "[1.0, 1.2599210498948732, 1.4422495703074083, 1.5874010519681994, 1.7099759466766968, 1.8171205928321397, 1.912931182772389, 2.0, 2.080083823051904, 2.154434690031884]\n"
     ]
    }
   ],
   "source": [
    "#Cube root of number 1 to 10\n",
    "import math\n",
    "cube_roots = [math.pow(x, 1/3) for x in range(1, 11)]\n",
    "print(cube_roots)"
   ]
  },
  {
   "cell_type": "code",
   "execution_count": 10,
   "id": "26d800d8",
   "metadata": {},
   "outputs": [
    {
     "name": "stdout",
     "output_type": "stream",
     "text": [
      "[False, True, False, True, False, True, False, True, False, True]\n"
     ]
    }
   ],
   "source": [
    "#Check Number is even or not\n",
    "\n",
    "numbers = [1, 2, 3, 4, 5, 6, 7, 8, 9, 10]\n",
    "is_even = list(map(lambda x: x % 2 == 0, numbers))\n",
    "print(is_even)\n"
   ]
  },
  {
   "cell_type": "code",
   "execution_count": 12,
   "id": "ca8e02e5",
   "metadata": {},
   "outputs": [
    {
     "name": "stdout",
     "output_type": "stream",
     "text": [
      "[1, 3, 5, 7, 9]\n"
     ]
    }
   ],
   "source": [
    "#Check Number is Odd or not\n",
    "\n",
    "numbers = [1, 2, 3, 4, 5, 6, 7, 8, 9, 10]\n",
    "odd_numbers = list(filter(lambda x: x % 2 != 0, numbers))\n",
    "print(odd_numbers)\n"
   ]
  },
  {
   "cell_type": "code",
   "execution_count": 13,
   "id": "1e2eb930",
   "metadata": {},
   "outputs": [
    {
     "name": "stdout",
     "output_type": "stream",
     "text": [
      "Positive numbers: [1, 2, 3, 4, 5, 6]\n",
      "Negative numbers: [-1, -2, -3, -4, -5]\n"
     ]
    }
   ],
   "source": [
    "#Sort integer into +ve and -ve\n",
    "\n",
    "numbers = [1, 2, 3, 4, 5, 6, -1, -2, -3, -4, -5, 0]\n",
    "positive_numbers = list(filter(lambda x: x > 0, numbers))\n",
    "negative_numbers = list(filter(lambda x: x < 0, numbers))\n",
    "print(\"Positive numbers:\", positive_numbers)\n",
    "print(\"Negative numbers:\", negative_numbers)\n"
   ]
  },
  {
   "cell_type": "code",
   "execution_count": null,
   "id": "8b86c9da",
   "metadata": {},
   "outputs": [],
   "source": []
  }
 ],
 "metadata": {
  "kernelspec": {
   "display_name": "Python 3 (ipykernel)",
   "language": "python",
   "name": "python3"
  },
  "language_info": {
   "codemirror_mode": {
    "name": "ipython",
    "version": 3
   },
   "file_extension": ".py",
   "mimetype": "text/x-python",
   "name": "python",
   "nbconvert_exporter": "python",
   "pygments_lexer": "ipython3",
   "version": "3.11.4"
  }
 },
 "nbformat": 4,
 "nbformat_minor": 5
}
